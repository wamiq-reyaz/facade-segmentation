{
 "cells": [
  {
   "cell_type": "markdown",
   "metadata": {},
   "source": [
    "# This Notebook Trains the Anisotropic Classifier\n",
    "\n",
    "The anistotropic version of the classifier uses alternating horizontal and vertical 1D convolutions instead of 2D convolutions in the decoding phase of a segnet. \n",
    "\n",
    "- The notebook that modifies the _facade-segnet_ net is [modify-segnet-for-anisotropy.ipynb](anisotropic-training/modify-segnet-for-anisotropy.ipynb)\n",
    "- Training can also be accomplished modifying paths as needed and then running the shell scripts:\n",
    "    - [scripts/anisotropic-training/start-training.sh](anisotropic-training/start-training.sh)\n",
    "    - [scripts/anisotropic-training/resume-training.sh](anisotropic-training/resume-training.sh)\n",
    "    - [scripts/anisotropic-training/finish-training.sh](anisotropic-training/finish-training.sh)\n",
    "\n",
    "> **NOTE** When trianing I have my data in an external, larger hard drive. This gives me enough storage to hold many snapshots of the classifier as well as preprocessed imagery for traiing. I use a soft-link so that the extranl drive appears to be part of the project. \n",
    "\n",
    "---\n",
    "\n",
    ">**NOTE:** You may need to close any kernel / delete anty nets from other noteboosk that are using the GPU, this is quite memory intensive."
   ]
  },
  {
   "cell_type": "markdown",
   "metadata": {},
   "source": [
    "# Start The Engines...."
   ]
  },
  {
   "cell_type": "code",
   "execution_count": null,
   "metadata": {},
   "outputs": [],
   "source": [
    "%pylab notebook"
   ]
  },
  {
   "cell_type": "code",
   "execution_count": null,
   "metadata": {},
   "outputs": [],
   "source": [
    "import caffe\n",
    "caffe.set_device(0)\n",
    "caffe.set_mode_gpu()"
   ]
  },
  {
   "cell_type": "markdown",
   "metadata": {},
   "source": [
    "I prefer to list paths relative to the root of the project, even though this notebook in in a 'scripts' folder. "
   ]
  },
  {
   "cell_type": "code",
   "execution_count": null,
   "metadata": {},
   "outputs": [],
   "source": [
    "cd ../.."
   ]
  },
  {
   "cell_type": "markdown",
   "metadata": {},
   "source": [
    "During training, I use some python modules that are in the scripts folder. "
   ]
  },
  {
   "cell_type": "code",
   "execution_count": null,
   "metadata": {},
   "outputs": [],
   "source": [
    "import os\n",
    "sys.path.insert(0, os.path.abspath('./scripts/anisotropic-training'))"
   ]
  },
  {
   "cell_type": "markdown",
   "metadata": {},
   "source": [
    "Training takes a long time, but I like to know ASAP when something fails. \n",
    "These cells let me send myself an email when things go wrong."
   ]
  },
  {
   "cell_type": "markdown",
   "metadata": {},
   "source": [
    "# Put on your seatbelts ...."
   ]
  },
  {
   "cell_type": "code",
   "execution_count": null,
   "metadata": {},
   "outputs": [],
   "source": [
    "import getpass\n",
    "pwd = getpass.getpass('gmail:')"
   ]
  },
  {
   "cell_type": "code",
   "execution_count": null,
   "metadata": {},
   "outputs": [],
   "source": [
    "import smtplib\n",
    "\n",
    "def tell_me_about(issue):\n",
    "    email_address = \"femianjc@miamioh.edu\"\n",
    "\n",
    "    server = smtplib.SMTP('smtp.gmail.com', 587)\n",
    "    server.starttls()\n",
    "    server.login(email_address, pwd)\n",
    "\n",
    "   \n",
    "    msg = \"\"\"\\\n",
    "FROM: \"hal.csi.miamioh.edu\" <femianjc@miamioh.edu>\n",
    "SUBJECT: Deep Learning Alert\n",
    "\n",
    "{}\n",
    ".\n",
    "\"\"\".format(str(issue))\n",
    "\n",
    "    server.sendmail(email_address, email_address, msg)\n",
    "    server.quit()"
   ]
  },
  {
   "cell_type": "markdown",
   "metadata": {},
   "source": [
    "# Load The Solver (Resuming from Last Session)\n",
    "\n",
    "Load the solver, attemptiong to resume from the last saved snapshot."
   ]
  },
  {
   "cell_type": "code",
   "execution_count": null,
   "metadata": {},
   "outputs": [],
   "source": [
    "import re\n",
    "solver_proto = open('scripts/anisotropic-training/solver.prototxt').read()\n",
    "snapshot_prefix = re.search('^snapshot_prefix *: &*\\\"(.*)\\\"', solver_proto, re.MULTILINE).group(1).strip(' \"')\n",
    "print snapshot_prefix"
   ]
  },
  {
   "cell_type": "code",
   "execution_count": null,
   "metadata": {},
   "outputs": [],
   "source": [
    "def get_iter(path):\n",
    "    s = os.path.splitext(path)[0]\n",
    "    s = s.rsplit('_')[-1]\n",
    "    iter = int(s)\n",
    "    return iter\n",
    "\n",
    "\n",
    "def get_last_iter(names):\n",
    "    iters = [get_iter(name) for name in names]\n",
    "    max_iter = max(iters) if len(iters) > 0 else ''\n",
    "    return max_iter\n",
    "\n",
    "from glob import glob\n",
    "print  get_last_iter(glob(snapshot_prefix + '*.caffemodel'))"
   ]
  },
  {
   "cell_type": "code",
   "execution_count": null,
   "metadata": {},
   "outputs": [],
   "source": [
    "%pushd scripts/anisotropic-training\n",
    "%pwd\n",
    "import warnings\n",
    "\n",
    "try:\n",
    "    del net  # Delete the old net if it alrady exists\n",
    "except NameError:\n",
    "    pass\n",
    "\n",
    "with warnings.catch_warnings():\n",
    "    warnings.filterwarnings(action='ignore')  # Ignore warning about mpl.use\n",
    "    solver = caffe.get_solver('solver.prototxt')\n",
    "%popd"
   ]
  },
  {
   "cell_type": "code",
   "execution_count": null,
   "metadata": {},
   "outputs": [],
   "source": [
    "weights = '/home/shared/Projects/Facades/mybook/anisotropic/resume-from-round-one.caffemodel'\n",
    "solver.net.copy_from(weights)"
   ]
  },
  {
   "cell_type": "raw",
   "metadata": {},
   "source": [
    "iter_ = get_last_iter(glob(snapshot_prefix + '*.caffemodel'))\n",
    "solverstate = snapshot_prefix + '_iter_{}.solverstate'.format(iter_)\n",
    "print solverstate\n",
    "solver.restore(solverstate)   "
   ]
  },
  {
   "cell_type": "markdown",
   "metadata": {},
   "source": [
    "#  Configure the data layer \n",
    "\n",
    "I want to make sure it does nto clutter this notebook with extra output"
   ]
  },
  {
   "cell_type": "code",
   "execution_count": null,
   "metadata": {},
   "outputs": [],
   "source": [
    "data_layer = solver.net.layers[0]"
   ]
  },
  {
   "cell_type": "code",
   "execution_count": null,
   "metadata": {},
   "outputs": [],
   "source": [
    "data_layer.verbose = False"
   ]
  },
  {
   "cell_type": "code",
   "execution_count": null,
   "metadata": {},
   "outputs": [],
   "source": [
    "print \"Training\", len(solver.net.outputs), \"classes:\\n\\t-\", '\\n\\t- '.join(solver.net.outputs)"
   ]
  },
  {
   "cell_type": "code",
   "execution_count": null,
   "metadata": {},
   "outputs": [],
   "source": [
    "epoch_size = len(data_layer.files)\n",
    "batch_size = data_layer.batch_size\n",
    "iters_per_epoch = int(ceil(epoch_size/batch_size))\n",
    "print \"{} samples per epoch\".format(epoch_size)\n",
    "print \"{} samples per (training) batch\".format(batch_size)\n",
    "print \"{} iterations per epoch\".format(iters_per_epoch)\n"
   ]
  },
  {
   "cell_type": "markdown",
   "metadata": {},
   "source": [
    "# Start the main training loop!"
   ]
  },
  {
   "cell_type": "code",
   "execution_count": null,
   "metadata": {},
   "outputs": [],
   "source": [
    "from pyfacades.util import softmax\n",
    "import pyfacades.models.independant_12_layers.caffe_layers\n",
    "from pyfacades.util import channels_last\n",
    "import traceback"
   ]
  },
  {
   "cell_type": "code",
   "execution_count": null,
   "metadata": {},
   "outputs": [],
   "source": [
    "losses = {key:[] for key in solver.net.outputs}  \n",
    "losses['total'] = []"
   ]
  },
  {
   "cell_type": "code",
   "execution_count": null,
   "metadata": {
    "scrolled": false
   },
   "outputs": [],
   "source": [
    "fig = figure(figsize(10, 10))\n",
    "ncols = 2\n",
    "nrows = int(ceil(len(solver.net.outputs)/float(ncols)))\n",
    "axes = {key:subplot(nrows, ncols, i+1) for i, key in enumerate(solver.net.outputs)}\n",
    "\n",
    "try:\n",
    "    while True:\n",
    "        solver.step(1)\n",
    "\n",
    "        assert not isnan(solver.net.params['conv1_1'][0].data.var())\n",
    "        clf()\n",
    "\n",
    "        losses['total'].append(0)\n",
    "        for output in solver.net.outputs:\n",
    "            losses[output].append(float(solver.net.blobs[output].data))\n",
    "            losses['total'][-1] += losses[output][-1]\n",
    "        \n",
    "        if solver.iter % 10 != 0:\n",
    "            continue\n",
    "\n",
    "        subplot(2, 1, 1)  \n",
    "        cla()\n",
    "        title(\"Tot: {:2.4f}, Win {:2.4}, Iter {}, Epoch {}\".format( \n",
    "                losses['total'][-1], losses['window-loss'][-1], solver.iter, data_layer.epochs))\n",
    "        for output in ('window-loss',): #solver.net.outputs:\n",
    "            xmax = len(losses['total'])\n",
    "            xmin = max(0, xmax-100)\n",
    "            plot(arange(xmin, xmax), losses[output][xmin:xmax])\n",
    "        plot(arange(xmin, xmax), losses['total'][xmin:xmax])\n",
    "\n",
    "        subplot(2, 2, 3)\n",
    "        cla()\n",
    "        imshow(channels_last(solver.net.blobs['data'].data[0])/255.)\n",
    "        imshow(solver.net.blobs['facade'].data[0,0], alpha=0.3, cmap=cm.Reds)\n",
    "        imshow(solver.net.blobs['window'].data[0,0], alpha=0.3, cmap=cm.Greens)\n",
    "        subplot(2, 2, 4)\n",
    "        cla()\n",
    "        imshow(softmax(solver.net.blobs['conv-window'].data[0][(0,2,3),...])[1], cmap=cm.gray)\n",
    "        imshow(solver.net.blobs['facade'].data[0,0], alpha=0.3, cmap=cm.Reds)\n",
    "        imshow(solver.net.blobs['window'].data[0,0], alpha=0.3, cmap=cm.Greens)\n",
    "\n",
    "        fig.tight_layout()\n",
    "        fig.canvas.draw()\n",
    "except Exception as e:\n",
    "    msg = traceback.format_exc()\n",
    "    print msg\n",
    "    tell_me_about(msg)"
   ]
  },
  {
   "cell_type": "code",
   "execution_count": null,
   "metadata": {},
   "outputs": [],
   "source": []
  }
 ],
 "metadata": {
  "anaconda-cloud": {},
  "kernelspec": {
   "display_name": "Python 2",
   "language": "python",
   "name": "python2"
  },
  "language_info": {
   "codemirror_mode": {
    "name": "ipython",
    "version": 2
   },
   "file_extension": ".py",
   "mimetype": "text/x-python",
   "name": "python",
   "nbconvert_exporter": "python",
   "pygments_lexer": "ipython2",
   "version": "2.7.12"
  }
 },
 "nbformat": 4,
 "nbformat_minor": 1
}
